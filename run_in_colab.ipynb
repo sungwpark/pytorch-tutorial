{
 "cells": [
  {
   "cell_type": "code",
   "execution_count": null,
   "metadata": {},
   "outputs": [],
   "source": [
    "%load_ext tensorboard"
   ]
  },
  {
   "cell_type": "code",
   "execution_count": null,
   "metadata": {},
   "outputs": [],
   "source": [
    "%tensorboard --logdir=/content/drive/MyDrive/pytorch-tutorial-log/"
   ]
  },
  {
   "cell_type": "code",
   "execution_count": null,
   "metadata": {},
   "outputs": [],
   "source": [
    "import numpy as np\n",
    "import pandas as pd\n",
    "import torch\n",
    "import torch.nn as nn\n",
    "\n",
    "from torch.utils.data import DataLoader\n",
    "\n",
    "from data import *\n",
    "from model import *\n",
    "from utils import *\n",
    "from train import *"
   ]
  },
  {
   "cell_type": "code",
   "execution_count": null,
   "metadata": {},
   "outputs": [],
   "source": [
    "# 10. deep learning for timeseries\n",
    "\n",
    "best_loss = 1e+10\n",
    "name = 'FCNetwork'\n",
    "writer = SummaryWriter(\"drive/MyDrive/pytorch-tutorial-log/%s\"%(name))\n",
    "\n",
    "start_epoch = 0\n",
    "epochs = 50\n",
    "\n",
    "model = FCNetwork(1680)\n",
    "model = model.cuda()\n",
    "\n",
    "criterion = nn.L1Loss().cuda() #MAE\n",
    "optimizer = torch.optim.Adam(model.parameters(), lr=0.001)\n",
    "scheduler = torch.optim.lr_scheduler.CosineAnnealingLR(optimizer, len(train_loader)*epochs)\n",
    "\n",
    "for epoch in range(start_epoch, epochs):\n",
    "    train(train_loader, model, criterion, optimizer, scheduler, writer, epoch)\n",
    "    loss = validate(val_loader, model, criterion, writer, epoch)\n",
    "\n",
    "    is_best = loss < best_loss\n",
    "    best_prec1 = max(loss, best_loss)\n",
    "    save_checkpoint({\n",
    "        'epoch': epoch + 1,\n",
    "        'model': model.state_dict(),\n",
    "        'optimizer' : optimizer.state_dict(),\n",
    "        'scheduler' : scheduler.state_dict(),\n",
    "        'best_loss': best_loss,\n",
    "    }, is_best, name, directory='/content/drive/MyDrive/pytorch-tutorial-log/')\n",
    "print('Best loss: ', best_loss)\n",
    "\n",
    "\n",
    "\n"
   ]
  },
  {
   "cell_type": "code",
   "execution_count": null,
   "metadata": {},
   "outputs": [],
   "source": [
    "# 11. deep learning for text"
   ]
  },
  {
   "cell_type": "code",
   "execution_count": null,
   "metadata": {},
   "outputs": [],
   "source": [
    "# 12. generative deep learning"
   ]
  }
 ],
 "metadata": {
  "language_info": {
   "name": "python"
  },
  "orig_nbformat": 4
 },
 "nbformat": 4,
 "nbformat_minor": 2
}
